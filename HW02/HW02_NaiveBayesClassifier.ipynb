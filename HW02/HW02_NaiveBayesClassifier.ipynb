{
 "cells": [
  {
   "cell_type": "code",
   "execution_count": 1,
   "metadata": {},
   "outputs": [],
   "source": [
    "import numpy as np\n",
    "import math\n",
    "import sys\n",
    "from tqdm import tqdm\n",
    "import pdb #pdb.set_trace() #delete this line for the final version"
   ]
  },
  {
   "cell_type": "code",
   "execution_count": 2,
   "metadata": {},
   "outputs": [],
   "source": [
    "def Readfile():\n",
    "    #read binary file\n",
    "    finTrainImg = open('./dataset/train-images-idx3-ubyte',mode='rb')\n",
    "    finTrainLb = open('./dataset/train-labels-idx1-ubyte',mode='rb')\n",
    "    finTestImg = open('./dataset/t10k-images-idx3-ubyte',mode='rb')\n",
    "    finTestLb = open('./dataset/t10k-labels-idx1-ubyte',mode='rb')\n",
    "\n",
    "    #deal with training headers\n",
    "    finTrainImg.seek(4,0) #first 4 bytes are the header of magic number = 0x00000803 which means the following data type is unsigned byte(meaning of 0x08) and there will be three dimensions(meaning of 0x03); to skip this header, we initially seek 4 bytes from the start of the train image file\n",
    "    finTrainLb.seek(8,0) #first 4 bytes are the header of magic number. second 4 bytes are the header of first dimension, number of images, which will be defined later; to skip these headers, we initially seek 8 bytes from the start of the train lable file\n",
    "    nTrainImg=int.from_bytes(finTrainImg.read(4), byteorder='big') #second 4 bytes are the header of first dimension, number of images = 0x0000ea60 = 0d60000\n",
    "    #nTrainImg=100 #delete\n",
    "    #finTrainImg.seek(4,1) #delete\n",
    "    nRow=int.from_bytes(finTrainImg.read(4), byteorder='big') #third 4 bytes are the header of second dimension, number of rows = 0x0000001c = 0d28\n",
    "    nCol=int.from_bytes(finTrainImg.read(4), byteorder='big') #forth 4 bytes are the header of third dimension, number of columns = 0x0000001c = 0d28\n",
    "    \n",
    "    #deal with training data and parse them\n",
    "    trainImg=np.zeros((nTrainImg,nRow,nCol),dtype='uint8') #there are 60000 images; each image has 28*28 pixels; each pixel's size is 1 byte, though unit8's memory size is larger than 1 byte ... it's python's drawback\n",
    "    trainLb=np.zeros(nTrainImg,dtype='uint8') #there are 60000 images, so there are also 60000 labels\n",
    "    for i in tqdm(range(nTrainImg)):\n",
    "        for j in range(nCol):\n",
    "            for k in range(nRow):\n",
    "                trainImg[i][j][k]=int.from_bytes(finTrainImg.read(1), byteorder='big') #actually, byteorder here can be either big or liitle, because there is just \"1\" byte    \n",
    "        trainLb[i]=int.from_bytes(finTrainLb.read(1), byteorder='big')\n",
    "    finTrainImg.close()\n",
    "    finTrainLb.close()\n",
    "\n",
    "    #same logic, deal with testing headers and data\n",
    "    finTestImg.seek(4,0)\n",
    "    finTestLb.seek(8,0)\n",
    "    nTestImg=int.from_bytes(finTestImg.read(4), byteorder='big')  #second 4 bytes are the header of first dimension, number of images = 0x00002710 = 0d10000\n",
    "    #nTestImg=100 #delete\n",
    "    #finTestImg.seek(4,1) #delete\n",
    "    finTestImg.seek(8,1) #nRow and nCol are the same as Training data\n",
    "    testImg=np.zeros((nTestImg,nRow,nCol),dtype='uint8') #there are 60000 images; each image has 28*28 pixels; each pixel's size is 1 byte, though unit8's memory size is larger than 1 byte ... it's python's drawback\n",
    "    testLb=np.zeros(nTestImg,dtype='uint8') #there are 60000 images, so there are also 60000 labels\n",
    "    for i in tqdm(range(nTestImg)):\n",
    "        for j in range(nCol):\n",
    "            for k in range(nRow):\n",
    "                testImg[i][j][k]=int.from_bytes(finTestImg.read(1), byteorder='big') #actually, byteorder here can be either big or liitle, because there is just \"1\" byte    \n",
    "        testLb[i]=int.from_bytes(finTestLb.read(1), byteorder='big')\n",
    "    finTestImg.close()\n",
    "    finTestLb.close()\n",
    "    \n",
    "    return ((trainImg,trainLb),(testImg,testLb),nRow,nCol)"
   ]
  },
  {
   "cell_type": "markdown",
   "metadata": {},
   "source": [
    "#### Naive Bayes Classifier ####\n",
    "\n",
    "**we want to find the most potential lable given a testImage**\n",
    "$$\n",
    "\\begin{aligned}\n",
    "label^* &= argmax_{label}P(label|testImage)\\because \\text{bayes theorem} \\\\\n",
    "&= argmax_{label}\\frac{P(testImage|label)*P(label)}{P(testImage)} \\because P(testImage)\\text{ is irrelevant to label}\\\\\n",
    "&=argmax_{label}P(testImage|label)*P(label)\n",
    "\\end{aligned}\n",
    "$$\n",
    "**and print out each label's probability given a particular testImage where** \n",
    "\n",
    "$\\text{pbgt}=\\text{particular (bin) of gray level from testImage}$\n",
    "\n",
    "$\\text{prior}=P(label)=\\frac{\\text{amount of training images of the label appear}}{\\text{total amount of training image}}\\text{ , the percentage of each label in the training dataset}$\n",
    "\n",
    "$\\text{particular image's likelihood}=P(testImage|label)\\\\=P(1^{st} pixel=pbgt , 2^{nd} pixel=pbgt , ... , and (28*28)^{th} pixel=pbgt|label\\text{ , each pixel's gray level is between 0 and 255)}  \\\\\\text{ps. there are }256^{784} \\text{possible images}$\n",
    "\n",
    "**assume all the features (28*28 pixels) is independent in the condition of that label (the essence of naive bayes classifier)**\n",
    "\n",
    "$\\approx P(1^{st} pixel=pbgt|label) * P(2^{nd} pixel=pbgt|label) * P(3^{rd} pixel=pbgt|label) * ... * P((28*28)^{th} pixel=pbgt|label)$\n",
    "\n",
    "**in discrete mode:**\n",
    "\n",
    "we parse each pixel's gray level (0-255) into 32 bins (0-7,8-15,...)\n",
    "\n",
    "$\\approx P(1^{st} pixel=pbgt , 2^{nd} pixel=pbgt , ... , and (28*28)^{th} pixel=pbgt|label\\text{ , each pixel's bin of gray level is between 0 and 31)}  \\\\\\text{ps. there are }32^{784} \\text{possible images}$\n",
    "\n",
    "$\\text{particular pixel's likelihood} = P(n^{th} pixel=pbgt|label) = \\frac{\\text{count of } n^{th} \\text{ pixel=(pbgt) under training image's particular label}}{\\text{sum of }n^{th} \\text{ pixel's count of each bin of gray level under training image's particular label}}$\n",
    "\n",
    "**in continuous mode:**\n",
    "\n",
    "in this case, every pixel has its own Gaussian distribution with ($\\mu$=mean of each value of the pixel under a particular label, $\\sigma^2$ variance of each value of the pixel under a particular label)\n",
    "\n",
    "$\\text{particular pixel's likelihood}=P(n^{th} pixel=pbgt|label)=\\frac{1}{\\sigma \\sqrt{2\\pi}}exp({-\\frac{(n^{th}pixel-\\mu)^2}{2\\sigma^2})}$\n",
    "\n",
    "the reason why we don't need to multiply probability density function of Gaussian(height) by $\\Delta x$(width) to reach the definition of probability is because we just interest in the relative likelihood that a pixel belongs to each labels\n",
    "$$\n",
    "P(label|testImage)=\\frac{(P(testImage|label)*\\Delta x)*P(label)}{\\sum_{label}(P(testImage|label)*\\Delta x)*P(label)}=\\frac{P(testImage|label)*P(label)}{\\sum_{label}P(testImage|label)*P(label)}\n",
    "$$\n",
    "**because log is monotonic, we can add log scale on the posterior to avoid underflow**\n",
    "$$\n",
    "\\begin{aligned}\n",
    "\\text{log posterior}&=log P(label|testImage) \\\\\n",
    "&=log(\\frac{P(testImage|label)*P(label)}{P(testImage)}) \\\\\n",
    "&\\because \\text{log posterior's denominator }P(testImage)\\text{ is irrelevant to each label's probability} \\\\\n",
    "&\\therefore \\text{we can just use log posterior's numerator instead of whole log posterior} \\\\ \n",
    "&\\propto log(P(testImage|label)*P(label))\\\\\n",
    "\\end{aligned}\n",
    "$$\n",
    "\n",
    "**we use log posterior's numerator to represents each label's probability, but the sum of each log posterior's numerator isn't equal to 1 which is opposed to the probability's definition**\n",
    "\n",
    "**we hope the output of sum of each label's probability is equal to 1, so we multiply each log posterior's numerator by $\\alpha(\\alpha<0)$ to achieve normalization**\n",
    "$$\n",
    "\\begin{align}\n",
    "1&=\\alpha \\sum_{label}log(P(testImage|label)*P(label)) \\\\\n",
    "\\therefore \\alpha &=\\frac{1}{\\sum_{label}log[P(testImage|label)*P(label)]}\n",
    "\\end{align}\n",
    "$$\n",
    "**which means that each label's probability under the particular testImage is equivalent to multiply each log posterior's numerator by $\\alpha$**\n",
    "$$\n",
    "\\begin{aligned}\n",
    "\\text{normalized log posterior} &=\\alpha*log[P(testImage|label)*P(label)]\n",
    "\\end{aligned}\n",
    "$$\n",
    "**we can calculate the posterior based on each pixel's likelihood instead of an image's likelihood,**\n",
    "$$\n",
    "\\begin{aligned}\n",
    "&=\\alpha*\\{log[(P(1^{st} pixel=pbgt|label) * P(2^{nd} pixel=pbgt|label) * ... * P((28*28)^{th} pixel=pbgt|label)) * P(label)]\\} \\\\\n",
    "&=\\alpha*\\{logP(1^{st} pixel=pbgt|label) + logP(2^{nd} pixel=pbgt|label) + ... + logP((28*28)^{th} pixel=pbgt|label) + logP(label)\\}\n",
    "\\end{aligned}\n",
    "$$\n",
    "**based on the above statement, the most potential lable can be derived in this way**\n",
    "$$\n",
    "\\begin{aligned}\n",
    "label^* &=argmax_{label}P(testImage|label)*P(label) \\because \\text{log is a monotonic function}\\\\\n",
    "&=argmax_{label}log[P(testImage|label)*P(label)] \\because \\alpha<0\\\\\n",
    "&=argmin_{label}\\alpha*log[P(testImage|label)*P(label)]\\\\\n",
    "&=argmin_{label} \\text{ normalized log posterior} \\\\\n",
    "&\\therefore \\text{normalized log posterior's corresponding order of each label's probability is reverse}\n",
    "\\end{aligned}\n",
    "$$"
   ]
  },
  {
   "cell_type": "code",
   "execution_count": 3,
   "metadata": {},
   "outputs": [],
   "source": [
    "def Imagination(likePixelProb,modelParameter):\n",
    "    fout=open('./dataset/out_Imagination.txt',mode='w')#sys.stdout#\n",
    "    #Imagination of Naive Bayes Classifier\n",
    "    #after getting each pixel's each bin of gray level's likelihood, we can get the imagination of numbers in our naive Bayes classifier\n",
    "    #each pixel's bin of gray level is the one that makes this pixel's bin of gray level's likelihood maximum\n",
    "    (nRow,nCol,nLabel,_,_,_,_)=modelParameter\n",
    "    nBins=likePixelProb.shape[3] #discrete=32,continuous=256\n",
    "    for label in range(nLabel): #deal with each number imagination\n",
    "        for x in range(nRow):\n",
    "            for y in range(nCol):\n",
    "                vBin=np.argmax(likePixelProb[label][x][y][:])\n",
    "                if vBin>=(nBins/2):\n",
    "                    print(\"1\",end=\" \",file=fout)\n",
    "                else:\n",
    "                    print(\"0\",end=\" \",file=fout)\n",
    "            print(\" \",file=fout)\n",
    "        print(\"\\n\",file=fout)\n",
    "    fout.close()"
   ]
  },
  {
   "cell_type": "code",
   "execution_count": 4,
   "metadata": {},
   "outputs": [],
   "source": [
    "def Prior(trainLb,modelParameter):\n",
    "    (_,_,nLabel,_,_,_,_)=modelParameter\n",
    "    #prior : the percentage of each label in the training dataset\n",
    "    priorProb=np.zeros(nLabel)\n",
    "    for label in range(nLabel):\n",
    "        priorProb[label]=np.sum(trainLb==label)/len(trainLb)\n",
    "    return priorProb"
   ]
  },
  {
   "cell_type": "code",
   "execution_count": 5,
   "metadata": {},
   "outputs": [],
   "source": [
    "def LikePixel_Discrete(trainImg,trainLb,modelParameter):\n",
    "    (nRow,nCol,nLabel,nBins,nPixelValue,_,_)=modelParameter\n",
    "    divBin=int(nPixelValue/nBins)\n",
    "    #particular pixel's likelihood : calculate the likelihood of each pixel's bin of gray level in the training dataset\n",
    "    likePixelProb=np.zeros((nLabel,nRow,nCol,nBins))\n",
    "    #nominator , classify all the image into each of label, and count the amount of each pixel's bin of gray level under the particular label\n",
    "    for i in tqdm(range(len(trainImg))): #each training image\n",
    "        label=trainLb[i] #attach to the particular label\n",
    "        for x in range(nRow): #each pixel\n",
    "            for y in range(nCol):\n",
    "                locBin=trainImg[i][x][y]//divBin #parse each pixel's value into 32 bins\n",
    "                likePixelProb[label][x][y][locBin]+=1 #count the amount of this pixel's bin of gray level\n",
    "    #denominator , count all the possible bins of gray level of each label's each pixel\n",
    "    for label in range(nLabel): #each label\n",
    "        for x in range(nRow): #each pixel\n",
    "            for y in range(nCol):\n",
    "                sumBin=0\n",
    "                for iBin in range(nBins): #sum up all this pixel's possible bin of gray level\n",
    "                    sumBin+=likePixelProb[label][x][y][iBin]\n",
    "                likePixelProb[label][x][y][:]/=sumBin\n",
    "    return likePixelProb"
   ]
  },
  {
   "cell_type": "code",
   "execution_count": 6,
   "metadata": {},
   "outputs": [],
   "source": [
    "def gaussian(x,mean,variance):\n",
    "    return ((1/math.sqrt(2*math.pi*variance))*math.exp((-(x-mean)**2)/(2*variance)))"
   ]
  },
  {
   "cell_type": "code",
   "execution_count": 7,
   "metadata": {},
   "outputs": [],
   "source": [
    "def LikePixel_Continuous(trainImg,trainLb,modelParameter):\n",
    "    (nRow,nCol,nLabel,_,nPixelValue,minVar,_)=modelParameter\n",
    "    likePixelProb=np.zeros((nLabel,nRow,nCol,nPixelValue))\n",
    "    #debug1=np.zeros((nLabel,nRow,nCol))\n",
    "    for label in tqdm(range(nLabel)):\n",
    "        for x in range(nRow):\n",
    "            for y in range(nCol):\n",
    "                mean=np.mean(trainImg[label==trainLb][:,x,y]) # you can't write trainImg[label==trainLb][:][x][y], because X[:] is just to cut the sample space(eg. 3x3 -> 2*3), not dereference. therefore, X[:][0:3]=X[0:3], X[:][0]!= X[:,0]\n",
    "                variance=np.var(trainImg[label==trainLb][:,x,y])+minVar # to avoid gaussian divide by zero, variance should be zero, but it can't be to small, because it will be put on the exponential term, or it will be e^-(1/(0.001=1e-3))=e^-(1e+3) which leads to underflow and can not calculate likelihood efficently\n",
    "                #debug1[label][x][y]=variance\n",
    "                for p in range(nPixelValue):\n",
    "                    likePixelProb[label][x][y][p]=gaussian(p,mean,variance) #because this Guassian distribution so sharp that all the probability is equal to mean; the values of probability density function can be greater than one. the actual probability P(X<x) should be an intergral. https://stats.stackexchange.com/questions/9427/interpreting-gaussian-probabilities-greater-than-1\n",
    "    #debug2=np.reshape(debug1,(nLabel*nRow*nCol)) #check debug2[(debug2<1) & (debug2>0)]\n",
    "    return likePixelProb"
   ]
  },
  {
   "cell_type": "code",
   "execution_count": 8,
   "metadata": {},
   "outputs": [],
   "source": [
    "def NaiveBayesClassifier(trainImg,trainLb,testImg,testLb,modelParameter,toggle):\n",
    "    #Naive Bayes Classifier in discrete mode\n",
    "    fout=open('./dataset/out_NaiveBayesClassifier.txt',mode='w')#sys.stdout#\n",
    "    (nRow,nCol,nLabel,_,_,_,minNum)=modelParameter\n",
    "    \n",
    "    #prior\n",
    "    priorProb=Prior(trainLb,modelParameter)\n",
    "    #each of particular pixel's likelihood\n",
    "    if toggle==0:\n",
    "        likePixelProb=LikePixel_Discrete(trainImg,trainLb,modelParameter)\n",
    "    else:\n",
    "        likePixelProb=LikePixel_Continuous(trainImg,trainLb,modelParameter)\n",
    "    #normalized log posterior\n",
    "    error=0\n",
    "    for i in tqdm(range(len(testImg))): #each testing image\n",
    "        posteriorLogProbNumerator=np.zeros(nLabel)\n",
    "        for label in range(nLabel): #calcalate each lable's posterior's numerator\n",
    "            #each of particular image's likelihood\n",
    "            likeImageLogProb=0\n",
    "            for x in range(nRow):\n",
    "                for y in range(nCol):\n",
    "                    if(toggle==0):\n",
    "                        divBin=int(nPixelValue/nBins)#256(=1byte) is the size of each pixel which is defined in the dataset\n",
    "                        locBin=testImg[i][x][y]//divBin #see which bin the testing image's each pixel is locate on\n",
    "                        likeImageLogProb+=np.log(max(minNum,likePixelProb[label][x][y][locBin])) #calculate the log probability of likelihood by adding each log probability of pixel's likelihood; the reason why we can directly add the log probability is because of conditionaly independence; why we need lower bound? the domain of a logarithmic function is larger than zero, so each bin's minimum value is larger than zero\n",
    "                    else:\n",
    "                        locPixel=testImg[i][x][y]\n",
    "                        likeImageLogProb+=np.log(max(minNum,likePixelProb[label][x][y][locPixel]))#minNum can't be too small, because the likePixelProb derived from Gaussian can be small to 1e-300. also, python's underflow is 1e-3xx\n",
    "            #log posterior's numerator = log(particular image's likelihood * prior) = log(particular image's likelihood) * log(prior)\n",
    "            posteriorLogProbNumerator[label]=likeImageLogProb+np.log(priorProb[label])\n",
    "        #normalize the log posterior : because it is divided by the sum of posterior's numerator which is negative, the probability of each label is the reverse order of normalized log posterior\n",
    "        normPosteriorLogProb=posteriorLogProbNumerator/np.sum(posteriorLogProbNumerator)\n",
    "        #pick the most potential label under this given testImage which is the minimal normalized log posterior\n",
    "        predict=np.argmin(normPosteriorLogProb)\n",
    "        #caculate total error\n",
    "        error+=(predict!=testLb[i])\n",
    "        \n",
    "        #print each label's probability in log scale\n",
    "        for label in range(nLabel):\n",
    "            print(label,\": \",normPosteriorLogProb[label],file=fout)\n",
    "        print(\"Prediction: \",predict, \" Ans: \", testLb[i],end=\"\\n\\n\",file=fout)\n",
    "    #print this classifier's error rate\n",
    "    errorRate=error/len(testImg)\n",
    "    print(\"Error rate: \",errorRate,file=fout)\n",
    "    fout.close()\n",
    "    #print imaignation of each label under this classifier\n",
    "    Imagination(likePixelProb,modelParameter)"
   ]
  },
  {
   "cell_type": "code",
   "execution_count": 9,
   "metadata": {},
   "outputs": [
    {
     "name": "stderr",
     "output_type": "stream",
     "text": [
      "100%|██████████| 60000/60000 [01:30<00:00, 662.30it/s]\n",
      "100%|██████████| 10000/10000 [00:15<00:00, 645.89it/s]\n"
     ]
    },
    {
     "name": "stdin",
     "output_type": "stream",
     "text": [
      "Toggle option (0:discrete / 1:continuous):  0\n"
     ]
    },
    {
     "name": "stderr",
     "output_type": "stream",
     "text": [
      "100%|██████████| 60000/60000 [05:56<00:00, 168.32it/s]\n",
      "100%|██████████| 10000/10000 [11:48<00:00, 14.10it/s]\n"
     ]
    }
   ],
   "source": [
    "if __name__=='__main__':\n",
    "    #initialize\n",
    "    ((trainImg,trainLb),(testImg,testLb),nRow,nCol)=Readfile()\n",
    "    nLabel=10\n",
    "    nPixelValue=256\n",
    "    nBins=32\n",
    "    minVar=10#1e-1#100 or 1000 is better\n",
    "    minNum=1e-30#1e-10\n",
    "    modelParameter=(nRow,nCol,nLabel,nBins,nPixelValue,minVar,minNum)\n",
    "    \n",
    "    #implement Naive Bayes Classifier\n",
    "    toggle=int(input('Toggle option (0:discrete / 1:continuous): '))\n",
    "    NaiveBayesClassifier(trainImg,trainLb,testImg,testLb,modelParameter,toggle)"
   ]
  },
  {
   "cell_type": "code",
   "execution_count": 10,
   "metadata": {
    "jupyter": {
     "source_hidden": true
    }
   },
   "outputs": [
    {
     "data": {
      "image/png": "[encoded data removed]",
      "text/plain": [
       "<Figure size 432x288 with 1 Axes>"
      ]
     },
     "metadata": {
      "needs_background": "light"
     },
     "output_type": "display_data"
    }
   ],
   "source": [
    "import numpy as np\n",
    "import matplotlib.pyplot as plt\n",
    "import math\n",
    "\n",
    "\n",
    "def normal_distribution(x, mean, sigma):\n",
    "    return np.exp(-1*((x-mean)**2)/(2*(sigma**2)))/(math.sqrt(2*np.pi) * sigma)\n",
    "\n",
    "\n",
    "mean1, sigma1 = 0, 0.1\n",
    "x1 = np.linspace(mean1 - 6*sigma1, mean1 + 6*sigma1, 100)\n",
    "\n",
    "mean2, sigma2 = 1, 0.01\n",
    "x2 = np.linspace(mean2 - 6*sigma2, mean2 + 6*sigma2, 100)\n",
    "\n",
    "mean3, sigma3 = 2, 1e-6\n",
    "x3 = np.linspace(mean3 - 6*sigma3, mean3 + 6*sigma3, 100)\n",
    "\n",
    "y1 = normal_distribution(x1, mean1, sigma1)\n",
    "y2 = normal_distribution(x2, mean2, sigma2)\n",
    "y3 = normal_distribution(x3, mean3, sigma3)\n",
    "\n",
    "plt.plot(x1, y1, 'r', label='m=0,sig=0')\n",
    "plt.plot(x2, y2, 'g', label='m=0,sig=0.1')\n",
    "plt.plot(x3, y3, 'b', label='m=0,sig=0.01')\n",
    "plt.legend()\n",
    "plt.grid()\n",
    "plt.show()"
   ]
  },
  {
   "cell_type": "code",
   "execution_count": null,
   "metadata": {},
   "outputs": [],
   "source": []
  },
  {
   "cell_type": "code",
   "execution_count": null,
   "metadata": {},
   "outputs": [],
   "source": []
  }
 ],
 "metadata": {
  "kernelspec": {
   "display_name": "Python 3",
   "language": "python",
   "name": "python3"
  },
  "language_info": {
   "codemirror_mode": {
    "name": "ipython",
    "version": 3
   },
   "file_extension": ".py",
   "mimetype": "text/x-python",
   "name": "python",
   "nbconvert_exporter": "python",
   "pygments_lexer": "ipython3",
   "version": "3.6.10"
  }
 },
 "nbformat": 4,
 "nbformat_minor": 4
}
