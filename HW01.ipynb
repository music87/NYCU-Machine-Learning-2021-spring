{
 "cells": [
  {
   "cell_type": "code",
   "execution_count": 1,
   "metadata": {},
   "outputs": [],
   "source": [
    "# 資科工碩一 309551177 許珈瑋 HW01"
   ]
  },
  {
   "cell_type": "code",
   "execution_count": 2,
   "metadata": {},
   "outputs": [],
   "source": [
    "import numpy as np\n",
    "import matplotlib.pyplot as plt"
   ]
  },
  {
   "cell_type": "code",
   "execution_count": 3,
   "metadata": {},
   "outputs": [],
   "source": [
    "def Fitting_line_math(A,vec_b,vec_x):\n",
    "    n=A.shape[1]\n",
    "    print(\"Fitting line:\", end=\" \") #print the mathematical form of the fitting curve\n",
    "    for i in range(n-1):\n",
    "        print(vec_x[i][0], \"X^\", n-i-1 ,\" + \",end=\"\")\n",
    "    print(vec_x[n-1][0])\n",
    "    print(\"Total error: \",np.sum(np.square(A@vec_x-vec_b))) #print the total error of the fitting line"
   ]
  },
  {
   "cell_type": "code",
   "execution_count": 4,
   "metadata": {},
   "outputs": [],
   "source": [
    "def visualization(A,vec_b,vec_x_rLSE,vec_x_Newton,data):\n",
    "    n=A.shape[1]\n",
    "    x = np.linspace(np.max(data[:,0]),np.min(data[:,0]),100) #samplizing data points' x coordinate\n",
    "    #rLSE model\n",
    "    print(\"<<<rLSE>>>\")\n",
    "    Fitting_line_math(A,vec_b,vec_x_rLSE)\n",
    "    plt.subplot(2,1,1) #drawing on the top half of the paper\n",
    "    plt.title(\"rLSE\")\n",
    "    plt.scatter(data[:,0],data[:,1]) #raw data\n",
    "    y_rLSE=0 #print how the fitting curve looks like\n",
    "    for i in range(n):\n",
    "        y_rLSE+=vec_x_rLSE[i][0]*np.power(x,n-i-1)\n",
    "    plt.plot(x,y_rLSE)\n",
    "\n",
    "    #Newton model\n",
    "    print(\"<<<Newton>>>\")\n",
    "    Fitting_line_math(A,vec_b,vec_x_Newton)\n",
    "    plt.subplot(2,1,2) #drawing on the bottom half of the paper\n",
    "    plt.title(\"Newton\")\n",
    "    plt.scatter(data[:,0],data[:,1]) #raw data\n",
    "    y_Newton=0 #print how the fitting curve looks like\n",
    "    for i in range(n):\n",
    "        y_Newton+=vec_x_Newton[i][0]*np.power(x,n-i-1)\n",
    "    plt.plot(x,y_Newton)"
   ]
  },
  {
   "cell_type": "markdown",
   "metadata": {},
   "source": [
    "### Regularized Least Square Error with L2(Ridge)\n",
    "---\n",
    "model : A$\\vec x$ = $\\vec b$ ( ax+b=y )\n",
    "\n",
    "regularized loss : $||A\\vec x-\\vec b||^2$ + $\\lambda ||\\vec x||^2$\n",
    "\n",
    "$\\rightarrow \\vec x = (A^TA+\\lambda I)^{-1}A^T \\vec b$\n",
    "\n",
    "A=data points' x coordinate\n",
    "$\\begin{bmatrix}\n",
    "x_0 & 1 \\\\\n",
    "x_1 & 1 \\\\\n",
    "... & 1 \\\\\n",
    "x_n & 1\n",
    "\\end{bmatrix}$\n",
    "\n",
    "$\\vec x$=coefficients\n",
    "$\\begin{bmatrix}\n",
    "a \\\\\n",
    "b \\\\\n",
    "\\end{bmatrix}$\n",
    "\n",
    "$\\vec b$=data points' y coordinate\n",
    "$\\begin{bmatrix}\n",
    "y_0 \\\\\n",
    "y_1 \\\\\n",
    "... \\\\\n",
    "y_n\n",
    "\\end{bmatrix}$"
   ]
  },
  {
   "cell_type": "code",
   "execution_count": 5,
   "metadata": {},
   "outputs": [],
   "source": [
    "#for rLSE , LU-decomposition , M=LU\n",
    "def LU_decomposition(M):\n",
    "    n=M.shape[0]\n",
    "    M=M.astype(float) #必須轉成浮點數 , 不然之後運算可能會在不知不覺被四捨五入或是無條件捨去...\n",
    "    #M=LU , find L and U\n",
    "    U=M.copy()\n",
    "    L=np.identity(n)\n",
    "    I=np.identity(n)\n",
    "    for i in range(n-1):\n",
    "        for j in range(i+1,n):\n",
    "            c=-U[j][i]/U[i][i]\n",
    "            U[j]=U[j]+c*U[i] #gradually eliminate to form the triangle\n",
    "            L[j][i]=I[j][i]-c*I[i][i] #E1E2E3...EkA=U , A=Ek^(-1)...E3^(-1)E2^(-1)E1^(-1)U , A=LU , L=Ek^(-1)...E3^(-1)E2^(-1)E1^(-1) , Ek^(-1)=-Ek if not on diagonal , L=-Ek-...-E3-E2-E1\n",
    "    #print(L.round(3),\"L\")\n",
    "    #print(U.round(3),\"U\")\n",
    "    #print(M.round(3),\"M\")\n",
    "    #print((L@U).round(3),\"L@U\")\n",
    "    return L,U"
   ]
  },
  {
   "cell_type": "code",
   "execution_count": 6,
   "metadata": {},
   "outputs": [],
   "source": [
    "#for rLSE , find the inverse of matrix M using LU-decomposition\n",
    "def inverse(M):\n",
    "    n=M.shape[0] #M is a square matrix, so you can retrieve any dimension's size of M\n",
    "    I=np.identity(n)\n",
    "    lM,uM=LU_decomposition(M)\n",
    "    #MM^(-1)=I , LUM^(-1)=I\n",
    "    #LZ=I , solve Z which is also the inverse of L\n",
    "    Z=np.identity(n) #declare matrix Z\n",
    "    for i in range(n):\n",
    "        for j in range(n):\n",
    "            summ=0\n",
    "            for k in range(i):\n",
    "                summ=summ+lM[i][k]*Z[k][j]\n",
    "            Z[i][j]=(I[i][j]-summ)/lM[i][i]\n",
    "    #print(Z)\n",
    "    #UM^(-1)=Z , solve M^(-1)\n",
    "    invM=np.identity(n) #declare matrix invM\n",
    "    for i in range(n-1,-1,-1):\n",
    "        for j in range(n-1,-1,-1):\n",
    "            summ=0\n",
    "            for k in range(i+1,n):\n",
    "                summ=summ+uM[i][k]*invM[k][j]\n",
    "            invM[i][j]=(Z[i][j]-summ)/uM[i][i]\n",
    "    #print(invM)\n",
    "    return invM"
   ]
  },
  {
   "cell_type": "code",
   "execution_count": 7,
   "metadata": {},
   "outputs": [],
   "source": [
    "#check for example\n",
    "#m=2\n",
    "#M=np.random.randint(5,30,(m,m))\n",
    "#M=np.random.rand(n,n)\n",
    "\n",
    "#from numpy.linalg import inv\n",
    "#print(inverse(M)) #my function\n",
    "#print(inv(M)) #answer's function"
   ]
  },
  {
   "cell_type": "code",
   "execution_count": 8,
   "metadata": {},
   "outputs": [],
   "source": [
    "#LSE : use LU-decomposition to find (A.TA+lambda*I)^-1\n",
    "def rLSE(A,vec_b,lambdaa):\n",
    "    n=A.shape[1] #A.shape[1] means the number of polynomial bases\n",
    "    ATAlI=A.T@A+lambdaa*np.eye(n)\n",
    "    #Now, we can construct our model's coefficients vec_x\n",
    "    vec_x=inverse(ATAlI)@A.T@vec_b\n",
    "    return vec_x"
   ]
  },
  {
   "cell_type": "markdown",
   "metadata": {},
   "source": [
    "### Newton's method ###\n",
    "\n",
    "regularized loss : \n",
    "\n",
    "$f(\\vec x)\n",
    "=||A\\vec x-\\vec b||^2 \n",
    "=(A\\vec x-\\vec b)^T(A\\vec x-\\vec b) \n",
    "=\\vec x^TA^TA\\vec x-2\\vec x^TA^T\\vec b+\\vec b^T\\vec b$\n",
    "\n",
    "Addition,\n",
    "\n",
    "$\\nabla f=2A^TA\\vec x-2A^T\\vec b$\n",
    "\n",
    "$Hf(\\vec x)=2A^TA$\n",
    "\n",
    "Hence,\n",
    "\n",
    "$\\vec x_{n+1}=\\vec x_n \\cdot (2A^TA\\vec x_n-2A^T\\vec b) \\cdot (2A^TA)^{-1}$"
   ]
  },
  {
   "cell_type": "code",
   "execution_count": 9,
   "metadata": {},
   "outputs": [],
   "source": [
    "#Newton's method\n",
    "def Newton(A,vec_b):\n",
    "    n=A.shape[1]\n",
    "    xt0=np.random.rand(n,1)\n",
    "    eps=100\n",
    "    while eps>1e-6:\n",
    "        xt1=xt0-inverse(2*A.T@A)@(2*A.T@A@xt0-2*A.T@vec_b)\n",
    "        eps=abs(np.sum(np.square(xt1-xt0))/n)\n",
    "        xt0=xt1\n",
    "    vec_x=xt0\n",
    "    return vec_x"
   ]
  },
  {
   "cell_type": "code",
   "execution_count": 10,
   "metadata": {},
   "outputs": [],
   "source": [
    "def run():\n",
    "    #initialize\n",
    "    #path=\"testfile.txt\"\n",
    "    path=input(\"path: \") #path and the name of input file consists data points\n",
    "    n=int(input(\"number of polynomial bases: \"))\n",
    "    lambdaa=int(input(\"lambdaa: \"))\n",
    "    \n",
    "    #read data\n",
    "    data = np.loadtxt(path, delimiter=',', unpack=False)\n",
    "    amount=int(data.size/2) #the amount of data in 2D\n",
    "    \n",
    "    #set data maxtrix A, label vector b\n",
    "    A=np.empty((amount,n))\n",
    "    for j in range(n): #n=3 -> j=0,1,2\n",
    "        A[:,n-j-1]=np.power(data[:,0],j)\n",
    "    vec_b=data[:,-1:]\n",
    "    \n",
    "    #get the trained model parameter\n",
    "    vec_x_rLSE=rLSE(A,vec_b,lambdaa)\n",
    "    vec_x_Newton=Newton(A,vec_b)\n",
    "    \n",
    "    #visulization\n",
    "    visualization(A,vec_b,vec_x_rLSE,vec_x_Newton,data)"
   ]
  },
  {
   "cell_type": "code",
   "execution_count": 15,
   "metadata": {},
   "outputs": [
    {
     "name": "stdin",
     "output_type": "stream",
     "text": [
      "path:  testfile.txt\n",
      "number of polynomial bases:  3\n",
      "lambdaa:  10000\n"
     ]
    },
    {
     "name": "stdout",
     "output_type": "stream",
     "text": [
      "<<<rLSE>>>\n",
      "Fitting line: 0.8345332827002858 X^ 2  + 0.09314819831918816 X^ 1  + 0.046950699273469274\n",
      "Total error:  22649.738493024153\n",
      "<<<Newton>>>\n",
      "Fitting line: 3.023853393486571 X^ 2  + 4.906190263863799 X^ 1  + -0.23140175608771718\n",
      "Total error:  26.559959499333054\n"
     ]
    },
    {
     "data": {
      "image/png": "[encoded data removed]",
      "text/plain": [
       "<Figure size 432x288 with 2 Axes>"
      ]
     },
     "metadata": {
      "needs_background": "light"
     },
     "output_type": "display_data"
    }
   ],
   "source": [
    "run()"
   ]
  },
  {
   "cell_type": "code",
   "execution_count": 101,
   "metadata": {
    "collapsed": true,
    "jupyter": {
     "outputs_hidden": true
    }
   },
   "outputs": [
    {
     "data": {
      "image/png": "[encoded data removed]",
      "text/plain": [
       "<Figure size 432x288 with 1 Axes>"
      ]
     },
     "metadata": {
      "needs_background": "light"
     },
     "output_type": "display_data"
    }
   ],
   "source": [
    "#randomly create data to check for the model presentation\n",
    "import matplotlib.pyplot as plt\n",
    "import random\n",
    "position = 0\n",
    "walk=np.empty((steps,2))\n",
    "steps = 200\n",
    "for i in range(steps):\n",
    "  step= 1 if random.randint(0, 1) else -1\n",
    "  position += step\n",
    "  walk[i][0]=i\n",
    "  walk[i][1]=position\n",
    "fig = plt.figure()\n",
    "plt.scatter(walk[:,0],walk[:,1],s=0.3)\n",
    "plt.show()"
   ]
  }
 ],
 "metadata": {
  "kernelspec": {
   "display_name": "Python 3",
   "language": "python",
   "name": "python3"
  },
  "language_info": {
   "codemirror_mode": {
    "name": "ipython",
    "version": 3
   },
   "file_extension": ".py",
   "mimetype": "text/x-python",
   "name": "python",
   "nbconvert_exporter": "python",
   "pygments_lexer": "ipython3",
   "version": "3.6.10"
  }
 },
 "nbformat": 4,
 "nbformat_minor": 4
}
